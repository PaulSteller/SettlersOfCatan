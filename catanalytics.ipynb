{
 "cells": [
  {
   "cell_type": "markdown",
   "metadata": {},
   "source": [
    "### This investigation is based on a dataset found on Kaggle: https://www.kaggle.com/lumins/settlers-of-catan-games \n",
    "### It contains information for 50 four-player games of Settlers of Catan. Descriptions of the information contained in the dataset can be found at the website given above. There is not exactly a purpose of this notebook other than to explore some of the data for fun, and attempt to make a model that will predict the winner of the game. "
   ]
  },
  {
   "cell_type": "code",
   "execution_count": 296,
   "metadata": {},
   "outputs": [],
   "source": [
    "import numpy as np\n",
    "import pandas as pd\n",
    "import matplotlib.pyplot as plt\n",
    "\n",
    "from sklearn.metrics import mean_squared_error, r2_score, accuracy_score\n",
    "\n",
    "from sklearn.model_selection import KFold\n",
    "from sklearn.linear_model import LassoCV, Ridge, LinearRegression, LogisticRegression\n",
    "\n",
    "\n",
    "from sklearn.model_selection import train_test_split, cross_val_score, GridSearchCV\n",
    "from sklearn.linear_model import Lasso"
   ]
  },
  {
   "cell_type": "code",
   "execution_count": 297,
   "metadata": {},
   "outputs": [],
   "source": [
    "df = pd.read_csv('catanstats.csv')"
   ]
  },
  {
   "cell_type": "code",
   "execution_count": 300,
   "metadata": {},
   "outputs": [
    {
     "data": {
      "text/html": [
       "<div>\n",
       "<style scoped>\n",
       "    .dataframe tbody tr th:only-of-type {\n",
       "        vertical-align: middle;\n",
       "    }\n",
       "\n",
       "    .dataframe tbody tr th {\n",
       "        vertical-align: top;\n",
       "    }\n",
       "\n",
       "    .dataframe thead th {\n",
       "        text-align: right;\n",
       "    }\n",
       "</style>\n",
       "<table border=\"1\" class=\"dataframe\">\n",
       "  <thead>\n",
       "    <tr style=\"text-align: right;\">\n",
       "      <th></th>\n",
       "      <th>gameNum</th>\n",
       "      <th>player</th>\n",
       "      <th>points</th>\n",
       "      <th>me</th>\n",
       "      <th>2</th>\n",
       "      <th>3</th>\n",
       "      <th>4</th>\n",
       "      <th>5</th>\n",
       "      <th>6</th>\n",
       "      <th>7</th>\n",
       "      <th>...</th>\n",
       "      <th>Unnamed: 26</th>\n",
       "      <th>production</th>\n",
       "      <th>tradeGain</th>\n",
       "      <th>robberCardsGain</th>\n",
       "      <th>totalGain</th>\n",
       "      <th>tradeLoss</th>\n",
       "      <th>robberCardsLoss</th>\n",
       "      <th>tribute</th>\n",
       "      <th>totalLoss</th>\n",
       "      <th>totalAvailable</th>\n",
       "    </tr>\n",
       "  </thead>\n",
       "  <tbody>\n",
       "    <tr>\n",
       "      <th>0</th>\n",
       "      <td>1</td>\n",
       "      <td>1</td>\n",
       "      <td>5</td>\n",
       "      <td>NaN</td>\n",
       "      <td>1</td>\n",
       "      <td>3</td>\n",
       "      <td>5</td>\n",
       "      <td>8</td>\n",
       "      <td>7</td>\n",
       "      <td>10</td>\n",
       "      <td>...</td>\n",
       "      <td>O</td>\n",
       "      <td>38</td>\n",
       "      <td>5</td>\n",
       "      <td>2</td>\n",
       "      <td>45</td>\n",
       "      <td>10</td>\n",
       "      <td>2</td>\n",
       "      <td>4</td>\n",
       "      <td>16</td>\n",
       "      <td>29</td>\n",
       "    </tr>\n",
       "    <tr>\n",
       "      <th>1</th>\n",
       "      <td>1</td>\n",
       "      <td>2</td>\n",
       "      <td>9</td>\n",
       "      <td>1.0</td>\n",
       "      <td>1</td>\n",
       "      <td>3</td>\n",
       "      <td>5</td>\n",
       "      <td>8</td>\n",
       "      <td>7</td>\n",
       "      <td>10</td>\n",
       "      <td>...</td>\n",
       "      <td>O</td>\n",
       "      <td>48</td>\n",
       "      <td>8</td>\n",
       "      <td>6</td>\n",
       "      <td>62</td>\n",
       "      <td>11</td>\n",
       "      <td>1</td>\n",
       "      <td>8</td>\n",
       "      <td>20</td>\n",
       "      <td>42</td>\n",
       "    </tr>\n",
       "    <tr>\n",
       "      <th>2</th>\n",
       "      <td>1</td>\n",
       "      <td>3</td>\n",
       "      <td>10</td>\n",
       "      <td>NaN</td>\n",
       "      <td>1</td>\n",
       "      <td>3</td>\n",
       "      <td>5</td>\n",
       "      <td>8</td>\n",
       "      <td>7</td>\n",
       "      <td>10</td>\n",
       "      <td>...</td>\n",
       "      <td>C</td>\n",
       "      <td>44</td>\n",
       "      <td>14</td>\n",
       "      <td>9</td>\n",
       "      <td>67</td>\n",
       "      <td>24</td>\n",
       "      <td>4</td>\n",
       "      <td>0</td>\n",
       "      <td>28</td>\n",
       "      <td>39</td>\n",
       "    </tr>\n",
       "    <tr>\n",
       "      <th>3</th>\n",
       "      <td>1</td>\n",
       "      <td>4</td>\n",
       "      <td>5</td>\n",
       "      <td>NaN</td>\n",
       "      <td>1</td>\n",
       "      <td>3</td>\n",
       "      <td>5</td>\n",
       "      <td>8</td>\n",
       "      <td>7</td>\n",
       "      <td>10</td>\n",
       "      <td>...</td>\n",
       "      <td>S</td>\n",
       "      <td>42</td>\n",
       "      <td>12</td>\n",
       "      <td>0</td>\n",
       "      <td>54</td>\n",
       "      <td>24</td>\n",
       "      <td>6</td>\n",
       "      <td>0</td>\n",
       "      <td>30</td>\n",
       "      <td>24</td>\n",
       "    </tr>\n",
       "    <tr>\n",
       "      <th>4</th>\n",
       "      <td>2</td>\n",
       "      <td>1</td>\n",
       "      <td>10</td>\n",
       "      <td>NaN</td>\n",
       "      <td>1</td>\n",
       "      <td>6</td>\n",
       "      <td>3</td>\n",
       "      <td>9</td>\n",
       "      <td>10</td>\n",
       "      <td>8</td>\n",
       "      <td>...</td>\n",
       "      <td>2L</td>\n",
       "      <td>60</td>\n",
       "      <td>15</td>\n",
       "      <td>16</td>\n",
       "      <td>91</td>\n",
       "      <td>28</td>\n",
       "      <td>10</td>\n",
       "      <td>0</td>\n",
       "      <td>38</td>\n",
       "      <td>53</td>\n",
       "    </tr>\n",
       "  </tbody>\n",
       "</table>\n",
       "<p>5 rows × 36 columns</p>\n",
       "</div>"
      ],
      "text/plain": [
       "   gameNum  player  points   me  2  3  4  5   6   7  ...  Unnamed: 26  \\\n",
       "0        1       1       5  NaN  1  3  5  8   7  10  ...            O   \n",
       "1        1       2       9  1.0  1  3  5  8   7  10  ...            O   \n",
       "2        1       3      10  NaN  1  3  5  8   7  10  ...            C   \n",
       "3        1       4       5  NaN  1  3  5  8   7  10  ...            S   \n",
       "4        2       1      10  NaN  1  6  3  9  10   8  ...           2L   \n",
       "\n",
       "   production  tradeGain  robberCardsGain  totalGain  tradeLoss  \\\n",
       "0          38          5                2         45         10   \n",
       "1          48          8                6         62         11   \n",
       "2          44         14                9         67         24   \n",
       "3          42         12                0         54         24   \n",
       "4          60         15               16         91         28   \n",
       "\n",
       "  robberCardsLoss  tribute totalLoss  totalAvailable  \n",
       "0               2        4        16              29  \n",
       "1               1        8        20              42  \n",
       "2               4        0        28              39  \n",
       "3               6        0        30              24  \n",
       "4              10        0        38              53  \n",
       "\n",
       "[5 rows x 36 columns]"
      ]
     },
     "execution_count": 300,
     "metadata": {},
     "output_type": "execute_result"
    }
   ],
   "source": [
    "df.head()"
   ]
  },
  {
   "cell_type": "code",
   "execution_count": 299,
   "metadata": {},
   "outputs": [
    {
     "data": {
      "text/plain": [
       "Index(['gameNum', 'player', 'points', 'me', '2', '3', '4', '5', '6', '7', '8',\n",
       "       '9', '10', '11', '12', 'settlement1', 'Unnamed: 16', 'Unnamed: 17',\n",
       "       'Unnamed: 18', 'Unnamed: 19', 'Unnamed: 20', 'settlement2',\n",
       "       'Unnamed: 22', 'Unnamed: 23', 'Unnamed: 24', 'Unnamed: 25',\n",
       "       'Unnamed: 26', 'production', 'tradeGain', 'robberCardsGain',\n",
       "       'totalGain', 'tradeLoss', 'robberCardsLoss', 'tribute', 'totalLoss',\n",
       "       'totalAvailable'],\n",
       "      dtype='object')"
      ]
     },
     "execution_count": 299,
     "metadata": {},
     "output_type": "execute_result"
    }
   ],
   "source": [
    "df.columns"
   ]
  },
  {
   "cell_type": "markdown",
   "metadata": {},
   "source": [
    "Renaming the columns"
   ]
  },
  {
   "cell_type": "code",
   "execution_count": 301,
   "metadata": {},
   "outputs": [],
   "source": [
    "df = df.rename(columns={'settlement1':'set1_a_num', 'Unnamed: 16':'set1_a_rec', 'Unnamed: 17':'set1_b_num', 'Unnamed: 18':'set1_b_rec', 'Unnamed: 19':'set1_c_num', 'Unnamed: 20':'set1_c_rec', \n",
    "                        'settlement2':'set2_a_num', 'Unnamed: 22':'set2_a_rec', 'Unnamed: 23':'set2_b_num', 'Unnamed: 24':'set2_b_rec', 'Unnamed: 25':'set2_c_num', 'Unnamed: 26':'set2_c_rec', })\n"
   ]
  },
  {
   "cell_type": "markdown",
   "metadata": {},
   "source": [
    "Relabeling the resource names as integers"
   ]
  },
  {
   "cell_type": "code",
   "execution_count": 302,
   "metadata": {},
   "outputs": [],
   "source": [
    "#function to relable recources as numbers (assuming 'B' is a typo for 'D')\n",
    "\n",
    "def relabel(column):\n",
    "    for i in range(200):\n",
    "        if df.loc[i,column] == 'L':\n",
    "            df.loc[i,column] = 1\n",
    "        elif df.loc[i,column] == 'C':\n",
    "            df.loc[i,column] = 2\n",
    "        elif df.loc[i,column] == 'S':\n",
    "            df.loc[i,column] = 3\n",
    "        elif df.loc[i,column] == 'W':\n",
    "            df.loc[i,column] = 4\n",
    "        elif df.loc[i,column] == 'O':\n",
    "            df.loc[i,column] = 5\n",
    "        elif df.loc[i,column] == '3G':\n",
    "            df.loc[i,column] = 6\n",
    "        elif df.loc[i,column] == '2L':\n",
    "            df.loc[i,column] = 7\n",
    "        elif df.loc[i,column] == '2C':\n",
    "            df.loc[i,column] = 8\n",
    "        elif df.loc[i,column] == '2S':\n",
    "            df.loc[i,column] = 9\n",
    "        elif df.loc[i,column] == '2W':\n",
    "            df.loc[i,column] = 10\n",
    "        elif df.loc[i,column] == '2O':\n",
    "            df.loc[i,column] = 11\n",
    "        elif df.loc[i,column] == 'D':\n",
    "            df.loc[i,column] = 12\n",
    "        elif df.loc[i,column] == 'B':\n",
    "            df.loc[i,column] = 12\n",
    "            "
   ]
  },
  {
   "cell_type": "code",
   "execution_count": 303,
   "metadata": {},
   "outputs": [],
   "source": [
    "relabel('set1_a_rec')\n",
    "relabel('set1_b_rec')\n",
    "relabel('set1_c_rec')\n",
    "relabel('set2_a_rec')\n",
    "relabel('set2_b_rec')\n",
    "relabel('set2_c_rec')"
   ]
  },
  {
   "cell_type": "markdown",
   "metadata": {},
   "source": [
    "Create a Total Rolls column"
   ]
  },
  {
   "cell_type": "code",
   "execution_count": 304,
   "metadata": {},
   "outputs": [],
   "source": [
    "df['TotalRolls'] = df.iloc[:,4:15].sum(axis = 1)"
   ]
  },
  {
   "cell_type": "markdown",
   "metadata": {},
   "source": [
    "Create a binary Winner column"
   ]
  },
  {
   "cell_type": "code",
   "execution_count": 305,
   "metadata": {},
   "outputs": [],
   "source": [
    "# Creating a 'Winner' column: 1 if the player won, -1 if lost\n",
    "for i in range(200):\n",
    "    if df.loc[i,'points'] >9:\n",
    "        df.loc[i,'Winner'] = 1\n",
    "    else:\n",
    "        df.loc[i,'Winner'] = -1"
   ]
  },
  {
   "cell_type": "markdown",
   "metadata": {},
   "source": [
    "Next we find a way to measure how \"predictable\" the rolls of each game were by creating some sort of metric for the \"improbability\" of the game. That is, we look at the probability of rolling a certain number, and multiply it by the total number of dice rolled. This gives us the value for how many times this number \"should\" have been rolled in that game. We then find the absolute value of the difference between this value and the actual number of times that number was rolled. Summing these values up (for each number 2 through 12), this gives us an \"improbability\" measure for the game. "
   ]
  },
  {
   "cell_type": "code",
   "execution_count": 306,
   "metadata": {},
   "outputs": [
    {
     "data": {
      "text/plain": [
       "36"
      ]
     },
     "execution_count": 306,
     "metadata": {},
     "output_type": "execute_result"
    }
   ],
   "source": [
    "#Finding all possible combinations of two dice rolls\n",
    "\n",
    "from itertools import product\n",
    "\n",
    "combinations = list(product(range(1,7), repeat=2))\n",
    "len(combinations)"
   ]
  },
  {
   "cell_type": "code",
   "execution_count": 307,
   "metadata": {},
   "outputs": [],
   "source": [
    "#function to find the probability of rolling r (with two dice)\n",
    "def prob(r):\n",
    "    count = 0\n",
    "    for i in range(36):\n",
    "        if r == np.sum(combinations[i]):\n",
    "            count += 1\n",
    "    return (count / 36)"
   ]
  },
  {
   "cell_type": "code",
   "execution_count": 308,
   "metadata": {},
   "outputs": [],
   "source": [
    "#measuring the improbability of the game\n",
    "for i in range(200):\n",
    "    measure = 0\n",
    "    for j in range(11):\n",
    "        measure += np.abs(df.iloc[i,j+4] - (prob(j+2) * df.loc[i, 'TotalRolls']))\n",
    "    df.loc[i, 'Improbability'] = measure\n",
    "        "
   ]
  },
  {
   "cell_type": "markdown",
   "metadata": {},
   "source": [
    "We normalize the improbability number so that it is in between 0 and 1. A normed improbability of 0 means that the rolls were exactly how we would have predicted them to be based on their probabilities. A normed improbability of 1 means that, out of the data given, the rolls of that game were the least \"predictable.\""
   ]
  },
  {
   "cell_type": "code",
   "execution_count": 309,
   "metadata": {},
   "outputs": [],
   "source": [
    "df['Improbability_norm']=(df.loc[:,'Improbability'])/(df.loc[:,'Improbability'].max())\n"
   ]
  },
  {
   "cell_type": "markdown",
   "metadata": {},
   "source": [
    "It seems to make the most sense that there would be some sort of correlation between the production and the points. We examine this below."
   ]
  },
  {
   "cell_type": "code",
   "execution_count": 310,
   "metadata": {},
   "outputs": [
    {
     "data": {
      "image/png": "[encoded data removed]",
      "text/plain": [
       "<Figure size 432x288 with 1 Axes>"
      ]
     },
     "metadata": {
      "needs_background": "light"
     },
     "output_type": "display_data"
    },
    {
     "name": "stdout",
     "output_type": "stream",
     "text": [
      "Mean squared error: 2.64\n",
      "Coefficient of determination: 0.43\n"
     ]
    }
   ],
   "source": [
    "\n",
    "\n",
    "x = np.array(df.loc[:,'production'])\n",
    "y = np.array(df.loc[:,'points'])\n",
    "\n",
    "plt.scatter(x, y)\n",
    "\n",
    "X, Y = x.reshape(-1,1), y.reshape(-1,1)\n",
    "plt.plot( X, LinearRegression().fit(X, Y).predict(X) )\n",
    "plt.show()\n",
    "\n",
    "print('Mean squared error: %.2f'\n",
    "      % mean_squared_error(Y, LinearRegression().fit(X, Y).predict(X)))\n",
    "print('Coefficient of determination: %.2f'\n",
    "      % r2_score(Y, LinearRegression().fit(X, Y).predict(X)))"
   ]
  },
  {
   "cell_type": "markdown",
   "metadata": {},
   "source": [
    "In the data given, it doesn't seem like there are a very strong correlation. "
   ]
  },
  {
   "cell_type": "markdown",
   "metadata": {},
   "source": [
    "### Examining just the winners and losers"
   ]
  },
  {
   "cell_type": "code",
   "execution_count": 311,
   "metadata": {},
   "outputs": [],
   "source": [
    "df_winner = pd.DataFrame(columns = df.columns)\n",
    "\n",
    "for i in range(200):\n",
    "    if df.loc[i, 'points'] > 9:\n",
    "        df_winner.loc[i,:] = df.loc[i,:]\n",
    "\n",
    "df_winner = df_winner.reset_index(drop = True)\n",
    "\n",
    "\n",
    "df_losers = pd.DataFrame(columns = df.columns)\n",
    "\n",
    "for i in range(200):\n",
    "    if df.loc[i, 'points'] < 10:\n",
    "        df_losers.loc[i,:] = df.loc[i,:]\n",
    "\n",
    "df_losers = df_losers.reset_index(drop = True)\n"
   ]
  },
  {
   "cell_type": "code",
   "execution_count": 393,
   "metadata": {},
   "outputs": [
    {
     "name": "stdout",
     "output_type": "stream",
     "text": [
      "2    18\n",
      "3    14\n",
      "4    10\n",
      "1     8\n",
      "Name: player, dtype: int64\n",
      "2    0.36\n",
      "3    0.28\n",
      "4    0.20\n",
      "1    0.16\n",
      "Name: player, dtype: float64\n"
     ]
    },
    {
     "data": {
      "image/png": "[encoded data removed]",
      "text/plain": [
       "<Figure size 432x288 with 1 Axes>"
      ]
     },
     "metadata": {
      "needs_background": "light"
     },
     "output_type": "display_data"
    }
   ],
   "source": [
    "print(df_winner['player'].value_counts())\n",
    "print(df_winner['player'].value_counts()/50)\n",
    "\n",
    "df_winner['player'].value_counts().plot(kind = 'bar')\n",
    "plt.xlabel('player')\n",
    "plt.ylabel('frequency')\n",
    "plt.show()"
   ]
  },
  {
   "cell_type": "markdown",
   "metadata": {},
   "source": [
    "Player 2 won the most amount of times (36% of the time). This may be worth further investigation, since the order of the player determines the order of choosing the initial two settlements."
   ]
  },
  {
   "cell_type": "code",
   "execution_count": 394,
   "metadata": {},
   "outputs": [
    {
     "name": "stdout",
     "output_type": "stream",
     "text": [
      "1    42\n",
      "4    40\n",
      "3    36\n",
      "2    32\n",
      "Name: player, dtype: int64\n",
      "1    0.84\n",
      "4    0.80\n",
      "3    0.72\n",
      "2    0.64\n",
      "Name: player, dtype: float64\n"
     ]
    },
    {
     "data": {
      "image/png": "[encoded data removed]",
      "text/plain": [
       "<Figure size 432x288 with 1 Axes>"
      ]
     },
     "metadata": {
      "needs_background": "light"
     },
     "output_type": "display_data"
    }
   ],
   "source": [
    "print(df_losers['player'].value_counts())\n",
    "print(df_losers['player'].value_counts()/50)\n",
    "\n",
    "df_losers['player'].value_counts().plot(kind = 'bar')\n",
    "plt.xlabel('player')\n",
    "plt.ylabel('frequency')\n",
    "plt.show()"
   ]
  },
  {
   "cell_type": "markdown",
   "metadata": {},
   "source": [
    "Player 1 lost the most (84% of the time). This is surprising, since player 1 gets to choose the first settlement, and so you would think that player 1 may have some sort of advantage. "
   ]
  },
  {
   "cell_type": "markdown",
   "metadata": {},
   "source": [
    "Below, we check to see if the \"improbability\" of the rolls in the game has any correlation on the amount of production. Intuitively, we guess that the more improbable the game, the lower the production. "
   ]
  },
  {
   "cell_type": "code",
   "execution_count": 395,
   "metadata": {},
   "outputs": [
    {
     "data": {
      "image/png": "[encoded data removed]",
      "text/plain": [
       "<Figure size 432x288 with 1 Axes>"
      ]
     },
     "metadata": {
      "needs_background": "light"
     },
     "output_type": "display_data"
    },
    {
     "name": "stdout",
     "output_type": "stream",
     "text": [
      "Mean squared error: 218.68\n",
      "Coefficient of determination: 0.08\n"
     ]
    }
   ],
   "source": [
    "x2 = np.array(df.loc[:,'Improbability_norm'])\n",
    "y2 = np.array(df.loc[:,'production'])\n",
    "\n",
    "plt.scatter(x2, y2)\n",
    "\n",
    "X2, Y2 = x2.reshape(-1,1), y2.reshape(-1,1)\n",
    "plt.plot( X2, LinearRegression().fit(X2, Y2).predict(X2) )\n",
    "plt.xlabel('Improbability')\n",
    "plt.ylabel('Production')\n",
    "\n",
    "plt.show()\n",
    "\n",
    "print('Mean squared error: %.2f'\n",
    "      % mean_squared_error(Y2, LinearRegression().fit(X2, Y2).predict(X2)))\n",
    "print('Coefficient of determination: %.2f'\n",
    "      % r2_score(Y2, LinearRegression().fit(X2, Y2).predict(X2)))"
   ]
  },
  {
   "cell_type": "markdown",
   "metadata": {},
   "source": [
    "We see that there is very little correlation between the improbability of hte rolls and the production"
   ]
  },
  {
   "cell_type": "code",
   "execution_count": null,
   "metadata": {},
   "outputs": [],
   "source": []
  },
  {
   "cell_type": "markdown",
   "metadata": {},
   "source": [
    "### How did the dice roll?\n",
    "\n",
    "Below, we graph (in blue) the predicted rolls of a specific game (based on the probability of the rolls and the total number of rolls) versus the actual rolls of that game (in red)."
   ]
  },
  {
   "cell_type": "code",
   "execution_count": 314,
   "metadata": {},
   "outputs": [],
   "source": [
    "def graph_improbability(game_num):\n",
    "    dict = {}\n",
    "    for i in [2,3,4,5,6,7,8,9,10,11,12]:\n",
    "        dict[i] = prob(i) *df_winner.loc[game_num - 1, 'TotalRolls']\n",
    "        \n",
    "    plt.bar(dict.keys(), dict.values(), alpha = 0.75)\n",
    "    for j in range(11):\n",
    "        plt.bar(j+2,df_winner.iloc[game_num -1 ,j+4], color = 'red', alpha = 0.25)\n",
    "    plt.xlabel('Dice Roll')\n",
    "    plt.ylabel('Frequency')\n",
    "    plt.title('Predicted Rolls (in Blue) vs. Actual Game Rolls (in Red) for Game %i' %game_num)\n",
    "    plt.show()\n",
    "    print('Normalized Improbability Score for Game %i:'%game_num, df_winner.loc[game_num - 1, 'Improbability_norm'])"
   ]
  },
  {
   "cell_type": "markdown",
   "metadata": {},
   "source": [
    "Below, we graph the game with the highest improbability score (game 24) and the lowest improbability score (game 1)"
   ]
  },
  {
   "cell_type": "code",
   "execution_count": 316,
   "metadata": {},
   "outputs": [
    {
     "data": {
      "image/png": "[encoded data removed]",
      "text/plain": [
       "<Figure size 432x288 with 1 Axes>"
      ]
     },
     "metadata": {
      "needs_background": "light"
     },
     "output_type": "display_data"
    },
    {
     "name": "stdout",
     "output_type": "stream",
     "text": [
      "Normalized Improbability Score for Game 24: 1.0\n",
      "\n",
      "\n",
      "\n"
     ]
    },
    {
     "data": {
      "image/png": "[encoded data removed]",
      "text/plain": [
       "<Figure size 432x288 with 1 Axes>"
      ]
     },
     "metadata": {
      "needs_background": "light"
     },
     "output_type": "display_data"
    },
    {
     "name": "stdout",
     "output_type": "stream",
     "text": [
      "Normalized Improbability Score for Game 1: 0.31737588652482274\n"
     ]
    }
   ],
   "source": [
    "graph_improbability(game_num = 24)\n",
    "print()\n",
    "print()\n",
    "print()\n",
    "graph_improbability(game_num = 1)"
   ]
  },
  {
   "cell_type": "code",
   "execution_count": null,
   "metadata": {},
   "outputs": [],
   "source": []
  },
  {
   "cell_type": "markdown",
   "metadata": {},
   "source": [
    "Here is the graph of the total rolls added up over all the games. As we would assume, the actual rolls (red) approaches the expected rolls (blue) the more rolls we make."
   ]
  },
  {
   "cell_type": "code",
   "execution_count": 24,
   "metadata": {},
   "outputs": [
    {
     "data": {
      "image/png": "[encoded data removed]",
      "text/plain": [
       "<Figure size 432x288 with 1 Axes>"
      ]
     },
     "metadata": {
      "needs_background": "light"
     },
     "output_type": "display_data"
    }
   ],
   "source": [
    "dict = {}\n",
    "for i in [2,3,4,5,6,7,8,9,10,11,12]:\n",
    "    dict[i] = prob(i) * sum(df_winner.loc[:, 'TotalRolls'])\n",
    "        \n",
    "plt.bar(dict.keys(), dict.values(), alpha = 0.75)\n",
    "for j in range(11):\n",
    "    plt.bar(j+2,sum(df_winner.iloc[:,j+4]), color = 'red', alpha = 0.25)\n",
    "plt.xlabel('Dice Roll')\n",
    "plt.ylabel('Frequency')\n",
    "plt.title('Predicted Rolls (in Blue) vs. Actual Game Rolls (in Red) for All Games')\n",
    "plt.show()"
   ]
  },
  {
   "cell_type": "code",
   "execution_count": null,
   "metadata": {},
   "outputs": [],
   "source": []
  },
  {
   "cell_type": "markdown",
   "metadata": {},
   "source": [
    "### Trying to predict the winner of the game"
   ]
  },
  {
   "cell_type": "code",
   "execution_count": 28,
   "metadata": {},
   "outputs": [
    {
     "data": {
      "text/plain": [
       "Index(['gameNum', 'player', 'points', 'me', '2', '3', '4', '5', '6', '7', '8',\n",
       "       '9', '10', '11', '12', 'set1_a_num', 'set1_a_rec', 'set1_b_num',\n",
       "       'set1_b_rec', 'set1_c_num', 'set1_c_rec', 'set2_a_num', 'set2_a_rec',\n",
       "       'set2_b_num', 'set2_b_rec', 'set2_c_num', 'set2_c_rec', 'production',\n",
       "       'tradeGain', 'robberCardsGain', 'totalGain', 'tradeLoss',\n",
       "       'robberCardsLoss', 'tribute', 'totalLoss', 'totalAvailable',\n",
       "       'TotalRolls', 'Winner', 'Improbability', 'Improbability_norm'],\n",
       "      dtype='object')"
      ]
     },
     "execution_count": 28,
     "metadata": {},
     "output_type": "execute_result"
    }
   ],
   "source": [
    "df.columns"
   ]
  },
  {
   "cell_type": "markdown",
   "metadata": {},
   "source": [
    "Fitting a model to predict the winner"
   ]
  },
  {
   "cell_type": "code",
   "execution_count": 397,
   "metadata": {},
   "outputs": [],
   "source": [
    "X = np.array(df.loc[:,['player', 'set1_a_num', 'set1_a_rec', 'set1_b_num',\n",
    "       'set1_b_rec', 'set1_c_num', 'set1_c_rec', 'set2_a_num', 'set2_a_rec',\n",
    "       'set2_b_num', 'set2_b_rec', 'set2_c_num', 'set2_c_rec', 'production',\n",
    "       'tradeGain', 'robberCardsGain', 'tradeLoss',\n",
    "       'robberCardsLoss', 'tribute']])\n",
    "           \n",
    "y = np.array(df.loc[:, ['Winner']])"
   ]
  },
  {
   "cell_type": "code",
   "execution_count": 398,
   "metadata": {},
   "outputs": [],
   "source": [
    "from sklearn.model_selection import train_test_split\n",
    "X_train, X_test, y_train, y_test = train_test_split(X, y, random_state=42)"
   ]
  },
  {
   "cell_type": "code",
   "execution_count": 399,
   "metadata": {},
   "outputs": [],
   "source": [
    "def prediction(pred):\n",
    "    for i in range(len(pred)):\n",
    "            if pred[i] > 0:\n",
    "                pred[i] = 1\n",
    "            else:\n",
    "                pred[i] = -1"
   ]
  },
  {
   "cell_type": "markdown",
   "metadata": {},
   "source": [
    "Using Linear Regression"
   ]
  },
  {
   "cell_type": "code",
   "execution_count": 400,
   "metadata": {},
   "outputs": [
    {
     "name": "stdout",
     "output_type": "stream",
     "text": [
      "Accuracy: 0.74\n"
     ]
    }
   ],
   "source": [
    "linreg = LinearRegression()\n",
    "linreg.fit(X_train, y_train)\n",
    "y_pred = linreg.predict(X_test)\n",
    "\n",
    "prediction(y_pred)\n",
    "        \n",
    "print('Accuracy:', accuracy_score(y_test,y_pred))\n"
   ]
  },
  {
   "cell_type": "code",
   "execution_count": 73,
   "metadata": {},
   "outputs": [
    {
     "data": {
      "image/png": "[encoded data removed]",
      "text/plain": [
       "<Figure size 432x288 with 1 Axes>"
      ]
     },
     "metadata": {
      "needs_background": "light"
     },
     "output_type": "display_data"
    }
   ],
   "source": [
    "from itertools import combinations\n",
    "plot_values = []\n",
    "for i in range(1,20):\n",
    "    combi = list(combinations(range(19),i))\n",
    "    for c in combi:\n",
    "        c = list(c)\n",
    "        lin_reg=LinearRegression()\n",
    "        lin_reg.fit(X_train[:,c], y_train)\n",
    "        plot_values.append([len(c), lin_reg.score(X_test[:,c],y_test)])\n",
    "plot_values = pd.DataFrame(plot_values)\n",
    "plt.scatter(plot_values.iloc[:,0], plot_values.iloc[:,1])\n",
    "plt.xlabel('Subset Size')\n",
    "plt.ylabel('Test R^2')\n",
    "plt.title('Prediction Score for all Subsets of Predictors')\n",
    "plt.show()"
   ]
  },
  {
   "cell_type": "markdown",
   "metadata": {},
   "source": [
    "Even using subset selection, we don't get a particularly high R^2 value"
   ]
  },
  {
   "cell_type": "code",
   "execution_count": 246,
   "metadata": {},
   "outputs": [
    {
     "data": {
      "image/png": "[encoded data removed]",
      "text/plain": [
       "<Figure size 432x288 with 1 Axes>"
      ]
     },
     "metadata": {
      "needs_background": "light"
     },
     "output_type": "display_data"
    }
   ],
   "source": [
    "plot_values = []\n",
    "for i in range(1,20):\n",
    "    combi = list(combinations(range(19),i))\n",
    "    for c in combi:\n",
    "        c = list(c)\n",
    "        lin_reg=LinearRegression()\n",
    "        lin_reg.fit(X_train[:,c], y_train)\n",
    "        y_pred = lin_reg.predict(X_test[:,c])\n",
    "\n",
    "        prediction(y_pred)\n",
    "        \n",
    "        plot_values.append([len(c), accuracy_score(y_test,y_pred)])\n",
    "plot_values = pd.DataFrame(plot_values)\n",
    "plt.scatter(plot_values.iloc[:,0], plot_values.iloc[:,1])\n",
    "plt.xlabel('Subset Size')\n",
    "plt.ylabel('% Accuracy')\n",
    "plt.title('Percent Accuracy for all Subsets of Predictors')\n",
    "plt.show()"
   ]
  },
  {
   "cell_type": "markdown",
   "metadata": {},
   "source": [
    "Using subset selection, we do see that some subsets of our predictors give us up to 80% accuracy"
   ]
  },
  {
   "cell_type": "markdown",
   "metadata": {},
   "source": [
    "Next, we use Lasso regression."
   ]
  },
  {
   "cell_type": "code",
   "execution_count": 321,
   "metadata": {},
   "outputs": [
    {
     "data": {
      "image/png": "[encoded data removed]",
      "text/plain": [
       "<Figure size 432x288 with 1 Axes>"
      ]
     },
     "metadata": {
      "needs_background": "light"
     },
     "output_type": "display_data"
    }
   ],
   "source": [
    "y_train=y_train.reshape(150)\n",
    "p=19\n",
    "\n",
    "\n",
    "alphas = np.arange(0.001,5,0.1) # 0.1 to 2, step = 0.1 \n",
    "N = len(alphas) # Number of lasso parameters\n",
    "betas = np.zeros((N,p+1)) # p+1 because of intercept\n",
    "for i in range(N):\n",
    "    clf = Lasso(alphas[i], fit_intercept= True) \n",
    "    clf.fit(X_train,y_train)\n",
    "    betas[i,0] = clf.intercept_ \n",
    "    betas[i,1:] = clf.coef_\n",
    "plt.plot(alphas,betas,linewidth=2) \n",
    "plt.legend(range(p)) \n",
    "plt.xlabel('alpha') \n",
    "plt.ylabel('Coefficients') \n",
    "plt.xlim(min(alphas),2) \n",
    "plt.ylim(-0.1, 0.1)\n",
    "plt.show()"
   ]
  },
  {
   "cell_type": "code",
   "execution_count": 322,
   "metadata": {},
   "outputs": [
    {
     "data": {
      "image/png": "[encoded data removed]",
      "text/plain": [
       "<Figure size 432x288 with 1 Axes>"
      ]
     },
     "metadata": {
      "needs_background": "light"
     },
     "output_type": "display_data"
    }
   ],
   "source": [
    "y_train=y_train.reshape(150)\n",
    "p=19\n",
    "\n",
    "\n",
    "alphas = np.arange(0.001,5,0.1) # 0.1 to 2, step = 0.1 \n",
    "N = len(alphas) # Number of lasso parameters\n",
    "betas = np.zeros((N,p)) # p+1 because of intercept\n",
    "for i in range(N):\n",
    "    clf = Lasso(alphas[i], fit_intercept= False) \n",
    "    clf.fit(X_train,y_train)\n",
    "    #betas[i,0] = clf.intercept_ \n",
    "    betas[i,:] = clf.coef_\n",
    "plt.plot(alphas,betas,linewidth=2) \n",
    "plt.legend(range(p)) \n",
    "plt.xlabel('alpha') \n",
    "plt.ylabel('Coefficients') \n",
    "\n",
    "\n",
    "plt.show()"
   ]
  },
  {
   "cell_type": "code",
   "execution_count": 401,
   "metadata": {},
   "outputs": [
    {
     "data": {
      "image/png": "[encoded data removed]",
      "text/plain": [
       "<Figure size 432x288 with 1 Axes>"
      ]
     },
     "metadata": {
      "needs_background": "light"
     },
     "output_type": "display_data"
    }
   ],
   "source": [
    "y_train=y_train.reshape(150)\n",
    "alphas = np.exp(np.linspace(np.log(0.01),np.log(1),1000))\n",
    "lasso=LassoCV(alphas=alphas, cv = 10)\n",
    "lasso.fit(X_train,y_train)\n",
    "plt.plot(lasso.alphas_, lasso.mse_path_)\n",
    "plt.xlabel('alpha')\n",
    "plt.ylabel('mse')\n",
    "plt.show()"
   ]
  },
  {
   "cell_type": "code",
   "execution_count": 323,
   "metadata": {},
   "outputs": [
    {
     "data": {
      "image/png": "[encoded data removed]",
      "text/plain": [
       "<Figure size 432x288 with 1 Axes>"
      ]
     },
     "metadata": {
      "needs_background": "light"
     },
     "output_type": "display_data"
    },
    {
     "name": "stdout",
     "output_type": "stream",
     "text": [
      "0.5920728764732345\n",
      "best alpha value: 0.02456916462982792\n"
     ]
    }
   ],
   "source": [
    "y_train=y_train.reshape(150)\n",
    "\n",
    "K=10\n",
    "alphas = np.exp(np.linspace(np.log(0.01),np.log(1),1000))\n",
    "num_alphas = len(alphas)\n",
    "\n",
    "scores = np.zeros((num_alphas,1))\n",
    "\n",
    "clf=LassoCV(alphas = alphas, cv = K)\n",
    "clf.fit(X_train, y_train)    \n",
    "\n",
    "scores_avg = clf.mse_path_.mean(axis = 1)\n",
    "\n",
    "plt.plot(clf.alphas, scores_avg)\n",
    "plt.xlabel('alpha value')\n",
    "plt.ylabel('mse')\n",
    "plt.show()\n",
    "\n",
    "print(np.min(scores_avg))\n",
    "print('best alpha value:', alphas[np.argmin(scores_avg)])"
   ]
  },
  {
   "cell_type": "code",
   "execution_count": 324,
   "metadata": {},
   "outputs": [
    {
     "name": "stdout",
     "output_type": "stream",
     "text": [
      "[ 0.         -0.00980563  0.0348119   0.03311417  0.         -0.02411682\n",
      " -0.00850369  0.02344779  0.03253843 -0.00873696 -0.02797342  0.00174537\n",
      " -0.00607294  0.02083933  0.04054524  0.05562981 -0.02829806 -0.00806776\n",
      " -0.01829772]\n",
      "accuracy: 0.7\n"
     ]
    }
   ],
   "source": [
    "lasso = Lasso(alpha = 0.02456916462982792)\n",
    "lasso.fit(X_train, y_train)\n",
    "\n",
    "print(lasso.coef_)\n",
    "\n",
    "y_pred = lasso.predict(X_test)\n",
    "prediction(y_pred)\n",
    "\n",
    "print('accuracy:', accuracy_score(y_test,y_pred))"
   ]
  },
  {
   "cell_type": "code",
   "execution_count": 325,
   "metadata": {},
   "outputs": [
    {
     "data": {
      "image/png": "[encoded data removed]",
      "text/plain": [
       "<Figure size 432x288 with 1 Axes>"
      ]
     },
     "metadata": {
      "needs_background": "light"
     },
     "output_type": "display_data"
    },
    {
     "name": "stdout",
     "output_type": "stream",
     "text": [
      "0.634702509529408\n",
      "best alpha value: 0.07159041085964889\n"
     ]
    }
   ],
   "source": [
    "y_train=y_train.reshape(150)\n",
    "\n",
    "K=10\n",
    "alphas = np.exp(np.linspace(np.log(0.01),np.log(1),1000))\n",
    "num_alphas = len(alphas)\n",
    "\n",
    "scores = np.zeros((num_alphas,1))\n",
    "\n",
    "clf=LassoCV(alphas = alphas, cv = K, fit_intercept = False)\n",
    "clf.fit(X_train, y_train)    \n",
    "\n",
    "scores_avg = clf.mse_path_.mean(axis = 1)\n",
    "\n",
    "plt.plot(clf.alphas, scores_avg)\n",
    "plt.xlabel('alpha value')\n",
    "plt.ylabel('mse')\n",
    "plt.show()\n",
    "\n",
    "\n",
    "print(np.min(scores_avg))\n",
    "print('best alpha value:', alphas[np.argmin(scores_avg)])"
   ]
  },
  {
   "cell_type": "code",
   "execution_count": 326,
   "metadata": {},
   "outputs": [
    {
     "name": "stdout",
     "output_type": "stream",
     "text": [
      "[-0.         -0.09854506  0.          0.         -0.         -0.05238213\n",
      " -0.00832704 -0.00359476  0.         -0.01158267 -0.04382334 -0.00548588\n",
      " -0.01625417  0.0109052   0.02161624  0.0595143  -0.01555305 -0.\n",
      " -0.01252943]\n",
      "accuracy: 0.68\n"
     ]
    }
   ],
   "source": [
    "lasso = Lasso(alpha = 0.07159041085964889, fit_intercept = False)\n",
    "lasso.fit(X_train, y_train)\n",
    "\n",
    "print(lasso.coef_)\n",
    "\n",
    "y_pred = lasso.predict(X_test)\n",
    "prediction(y_pred)\n",
    "\n",
    "print('accuracy:', accuracy_score(y_test,y_pred))"
   ]
  },
  {
   "cell_type": "markdown",
   "metadata": {},
   "source": [
    "So lasso regression only gives us about 70% accuracy. It might be worth exploring what predictors the lasso regression found more or less important, and if those agreed with some of the subsets that gave 80% accuracy using linear regression."
   ]
  },
  {
   "cell_type": "markdown",
   "metadata": {},
   "source": [
    "Next, we use the nearest neighbors classifier."
   ]
  },
  {
   "cell_type": "code",
   "execution_count": 327,
   "metadata": {},
   "outputs": [
    {
     "name": "stdout",
     "output_type": "stream",
     "text": [
      "best mean score =  0.7866666666666667\n",
      "neighbors = 21\n"
     ]
    }
   ],
   "source": [
    "from sklearn.neighbors import KNeighborsClassifier\n",
    "\n",
    "mean_scores = []\n",
    "for k in range(1,25):\n",
    "    knn = KNeighborsClassifier(n_neighbors=k)\n",
    "    scores = cross_val_score(knn, X_train, y_train, cv=10, scoring=\"accuracy\")\n",
    "    mean_scores.append(scores.mean())\n",
    "\n",
    "print('best mean score = ', max(mean_scores))\n",
    "print('neighbors =',  np.argmax(mean_scores)+1)"
   ]
  },
  {
   "cell_type": "code",
   "execution_count": 329,
   "metadata": {},
   "outputs": [
    {
     "name": "stdout",
     "output_type": "stream",
     "text": [
      "0.72\n"
     ]
    }
   ],
   "source": [
    "from sklearn.metrics import classification_report\n",
    "knn21 = KNeighborsClassifier(n_neighbors=21)\n",
    "knn21.fit(X_train,y_train)\n",
    "y_pred = knn21.predict(X_test)\n",
    "print(knn21.score(X_test, y_test))\n"
   ]
  },
  {
   "cell_type": "markdown",
   "metadata": {},
   "source": [
    "78% accuracy on the training set and 72% accuracy on the test set isn't terrible, but it's also not great."
   ]
  },
  {
   "cell_type": "code",
   "execution_count": null,
   "metadata": {},
   "outputs": [],
   "source": []
  },
  {
   "cell_type": "markdown",
   "metadata": {},
   "source": [
    "Using Logistic Regression"
   ]
  },
  {
   "cell_type": "code",
   "execution_count": 330,
   "metadata": {},
   "outputs": [
    {
     "name": "stdout",
     "output_type": "stream",
     "text": [
      "{'C': 0.01}\n",
      "0.7733333333333334\n"
     ]
    }
   ],
   "source": [
    "param_grid = {'C': [0.001, 0.01, 0.1, 1, 10, 100, 1000] }\n",
    "log_reg = GridSearchCV(LogisticRegression(max_iter = 1000), param_grid)\n",
    "\n",
    "log_reg = log_reg.fit(X_train, y_train)\n",
    "\n",
    "print(log_reg.best_params_)\n",
    "print(log_reg.best_score_)"
   ]
  },
  {
   "cell_type": "code",
   "execution_count": 331,
   "metadata": {},
   "outputs": [
    {
     "name": "stdout",
     "output_type": "stream",
     "text": [
      "0.72\n"
     ]
    }
   ],
   "source": [
    "log_reg = LogisticRegression(C = .01, max_iter = 1000)\n",
    "log_reg.fit(X_train,y_train)\n",
    "print(log_reg.score(X_test,y_test))\n",
    "y_pred = log_reg.predict(X_test)"
   ]
  },
  {
   "cell_type": "code",
   "execution_count": null,
   "metadata": {},
   "outputs": [],
   "source": []
  },
  {
   "cell_type": "markdown",
   "metadata": {},
   "source": [
    "Let's take a deeper look into our nearest neighbors model"
   ]
  },
  {
   "cell_type": "code",
   "execution_count": 332,
   "metadata": {},
   "outputs": [
    {
     "name": "stdout",
     "output_type": "stream",
     "text": [
      "[-1. -1. -1. -1. -1. -1. -1. -1. -1. -1. -1. -1.  1. -1. -1. -1. -1. -1.\n",
      " -1. -1. -1. -1. -1. -1. -1. -1. -1. -1. -1. -1. -1. -1. -1. -1. -1. -1.\n",
      " -1. -1. -1. -1. -1. -1. -1. -1. -1. -1. -1. -1. -1. -1.]\n"
     ]
    }
   ],
   "source": [
    "knn21 = KNeighborsClassifier(n_neighbors=21)\n",
    "knn21.fit(X_train,y_train)\n",
    "y_pred = knn21.predict(X_test)\n",
    "print(y_pred)"
   ]
  },
  {
   "cell_type": "markdown",
   "metadata": {},
   "source": [
    "Hmmm that's a lot of \"lose\" predictions and not a lot of \"win\" predictions. Let's look at this a little closer."
   ]
  },
  {
   "cell_type": "code",
   "execution_count": 384,
   "metadata": {},
   "outputs": [
    {
     "name": "stdout",
     "output_type": "stream",
     "text": [
      "[[37  1]\n",
      " [12  0]]\n"
     ]
    },
    {
     "data": {
      "image/png": "[encoded data removed]",
      "text/plain": [
       "<Figure size 288x288 with 2 Axes>"
      ]
     },
     "metadata": {
      "needs_background": "light"
     },
     "output_type": "display_data"
    }
   ],
   "source": [
    "from sklearn.metrics import confusion_matrix\n",
    "\n",
    "confusion = confusion_matrix(y_test, y_pred)\n",
    "print(confusion)\n",
    "\n",
    "def plot_confusion_matrix(matrix):\n",
    "    fig = plt.figure(figsize=(4,4))\n",
    "    ax = fig.add_subplot(111)\n",
    "    cax = ax.matshow(matrix)\n",
    "    fig.colorbar(cax)\n",
    "    \n",
    "plot_confusion_matrix(confusion)"
   ]
  },
  {
   "cell_type": "markdown",
   "metadata": {},
   "source": [
    "Our suspicion was correct. The model is great at getting the \"lost\" games correct, because it predicted all but one as a loss. There were 13 \"win\" games that it incorrectly predicted as lost. Could this possibly be because the proportion of losses to wins was much higher in the training set than the test set? In reality, since every game has three players lose and one player win, the ratio of losses to wins should be 3:1. If there were 15 wins in the test set, then the ration of losses to wins in the test set is 35:15, which is 2.333:1. So, in fact, the ratio of losses to wins in the training set would be higher than 3:1. This could account for our model overpredicting losses. Let's try to find a train/test split that has a ratio closes to the true 3:1 ratio."
   ]
  },
  {
   "cell_type": "code",
   "execution_count": 385,
   "metadata": {},
   "outputs": [],
   "source": [
    "X = np.array(df.loc[:,['player', 'set1_a_num', 'set1_a_rec', 'set1_b_num',\n",
    "       'set1_b_rec', 'set1_c_num', 'set1_c_rec', 'set2_a_num', 'set2_a_rec',\n",
    "       'set2_b_num', 'set2_b_rec', 'set2_c_num', 'set2_c_rec', 'production',\n",
    "       'tradeGain', 'robberCardsGain', 'tradeLoss',\n",
    "       'robberCardsLoss', 'tribute']])\n",
    "           \n",
    "y = np.array(df.loc[:, ['Winner']])\n",
    "\n",
    "X_train, X_test, y_train, y_test = train_test_split(X, y, random_state=10)"
   ]
  },
  {
   "cell_type": "code",
   "execution_count": 386,
   "metadata": {},
   "outputs": [
    {
     "name": "stdout",
     "output_type": "stream",
     "text": [
      "12\n"
     ]
    }
   ],
   "source": [
    "count = 0\n",
    "for i in range(50):\n",
    "    if y_test[i] == 1:\n",
    "        count += 1\n",
    "print(count)"
   ]
  },
  {
   "cell_type": "markdown",
   "metadata": {},
   "source": [
    "So the ratio of losses:wins in y_pred is 38:12, which is 3.1666:1. Then our training set has a higher proportion of wins. "
   ]
  },
  {
   "cell_type": "code",
   "execution_count": 388,
   "metadata": {},
   "outputs": [
    {
     "name": "stdout",
     "output_type": "stream",
     "text": [
      "best mean score =  0.7666666666666667\n",
      "neighbors = 24\n"
     ]
    }
   ],
   "source": [
    "y_train=y_train.reshape(150)\n",
    "\n",
    "mean_scores = []\n",
    "for k in range(1,25):\n",
    "    knn = KNeighborsClassifier(n_neighbors=k)\n",
    "    scores = cross_val_score(knn, X_train, y_train, cv=10, scoring=\"accuracy\")\n",
    "    mean_scores.append(scores.mean())\n",
    "\n",
    "print('best mean score = ', max(mean_scores))\n",
    "print('neighbors =',  np.argmax(mean_scores)+1)"
   ]
  },
  {
   "cell_type": "code",
   "execution_count": 389,
   "metadata": {},
   "outputs": [
    {
     "name": "stdout",
     "output_type": "stream",
     "text": [
      "0.74\n"
     ]
    }
   ],
   "source": [
    "knn21 = KNeighborsClassifier(n_neighbors=24)\n",
    "knn21.fit(X_train,y_train)\n",
    "y_pred = knn21.predict(X_test)\n",
    "print(knn21.score(X_test, y_test))"
   ]
  },
  {
   "cell_type": "code",
   "execution_count": 390,
   "metadata": {},
   "outputs": [
    {
     "data": {
      "text/plain": [
       "array([-1., -1., -1., -1., -1., -1., -1., -1., -1., -1.,  1., -1., -1.,\n",
       "       -1., -1., -1., -1., -1., -1., -1., -1., -1., -1., -1., -1., -1.,\n",
       "       -1., -1., -1., -1., -1.,  1., -1., -1., -1., -1., -1., -1., -1.,\n",
       "       -1., -1.,  1., -1., -1., -1., -1., -1., -1., -1., -1.])"
      ]
     },
     "execution_count": 390,
     "metadata": {},
     "output_type": "execute_result"
    }
   ],
   "source": [
    "y_pred"
   ]
  },
  {
   "cell_type": "code",
   "execution_count": 391,
   "metadata": {},
   "outputs": [
    {
     "name": "stdout",
     "output_type": "stream",
     "text": [
      "[[36  2]\n",
      " [11  1]]\n"
     ]
    },
    {
     "data": {
      "image/png": "[encoded data removed]",
      "text/plain": [
       "<Figure size 288x288 with 2 Axes>"
      ]
     },
     "metadata": {
      "needs_background": "light"
     },
     "output_type": "display_data"
    }
   ],
   "source": [
    "confusion = confusion_matrix(y_test, y_pred)\n",
    "print(confusion)\n",
    "\n",
    "    \n",
    "plot_confusion_matrix(confusion)"
   ]
  },
  {
   "cell_type": "markdown",
   "metadata": {},
   "source": [
    "Well...we tried. It doesn't seem like the ratio of losses:wins in the training set affected the accuracy too much. This time, our model predicted 3 wins (instead of one), but only one of those predictions was actually correct. It seems as though the model just has a hard time predicting wins."
   ]
  },
  {
   "cell_type": "code",
   "execution_count": null,
   "metadata": {},
   "outputs": [],
   "source": []
  }
 ],
 "metadata": {
  "kernelspec": {
   "display_name": "Python 3",
   "language": "python",
   "name": "python3"
  },
  "language_info": {
   "codemirror_mode": {
    "name": "ipython",
    "version": 3
   },
   "file_extension": ".py",
   "mimetype": "text/x-python",
   "name": "python",
   "nbconvert_exporter": "python",
   "pygments_lexer": "ipython3",
   "version": "3.7.6"
  }
 },
 "nbformat": 4,
 "nbformat_minor": 4
}
